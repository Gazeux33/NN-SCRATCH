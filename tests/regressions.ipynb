{
 "cells": [
  {
   "cell_type": "code",
   "id": "initial_id",
   "metadata": {
    "collapsed": true,
    "ExecuteTime": {
     "end_time": "2024-08-14T18:10:22.610469Z",
     "start_time": "2024-08-14T18:10:22.605643Z"
    }
   },
   "source": [
    "import matplotlib.pyplot as plt\n",
    "from sklearn.datasets import make_regression\n",
    "\n",
    "from nn.Module import Sequential, Linear\n",
    "from nn.Loss import MSE\n",
    "from nn.Optimizer import Adam\n",
    "from nn.Dataloader import Dataloader\n"
   ],
   "outputs": [],
   "execution_count": 6
  },
  {
   "metadata": {
    "ExecuteTime": {
     "end_time": "2024-08-14T18:10:22.616465Z",
     "start_time": "2024-08-14T18:10:22.614630Z"
    }
   },
   "cell_type": "code",
   "source": [
    "n_samples = 100\n",
    "n_features = 1\n",
    "noise = 4"
   ],
   "id": "40d4eeeaea9de346",
   "outputs": [],
   "execution_count": 7
  },
  {
   "metadata": {
    "ExecuteTime": {
     "end_time": "2024-08-14T18:10:22.630245Z",
     "start_time": "2024-08-14T18:10:22.617635Z"
    }
   },
   "cell_type": "code",
   "source": [
    "X,y = make_regression(n_samples=n_samples, n_features=n_features,noise=noise)\n",
    "X.shape, y.shape"
   ],
   "id": "7436b76a1e09e408",
   "outputs": [
    {
     "data": {
      "text/plain": [
       "((100, 1), (100,))"
      ]
     },
     "execution_count": 8,
     "metadata": {},
     "output_type": "execute_result"
    }
   ],
   "execution_count": 8
  },
  {
   "metadata": {
    "ExecuteTime": {
     "end_time": "2024-08-14T18:10:22.732374Z",
     "start_time": "2024-08-14T18:10:22.647070Z"
    }
   },
   "cell_type": "code",
   "source": [
    "fig = plt.figure(figsize=(12,5))\n",
    "plt.scatter(X, y,marker=\"^\",alpha=1,label=\"true\")\n",
    "plt.grid()\n",
    "plt.legend()\n",
    "plt.show()"
   ],
   "id": "e843020262ab43d2",
   "outputs": [
    {
     "data": {
      "text/plain": [
       "<Figure size 1200x500 with 1 Axes>"
      ],
      "image/png": "[encoded data removed]"
     },
     "metadata": {},
     "output_type": "display_data"
    }
   ],
   "execution_count": 9
  },
  {
   "metadata": {
    "ExecuteTime": {
     "end_time": "2024-08-14T18:10:22.734978Z",
     "start_time": "2024-08-14T18:10:22.733318Z"
    }
   },
   "cell_type": "code",
   "source": [
    "model = Sequential(\n",
    "    Linear(n_features,10),\n",
    "    Linear(10,10),\n",
    "    Linear(10,1)\n",
    ")"
   ],
   "id": "34771ca5982d6dc6",
   "outputs": [],
   "execution_count": 10
  },
  {
   "metadata": {
    "ExecuteTime": {
     "end_time": "2024-08-14T18:10:22.737461Z",
     "start_time": "2024-08-14T18:10:22.735565Z"
    }
   },
   "cell_type": "code",
   "source": [
    "optimizer = Adam(lr=0.01)\n",
    "loss = MSE()"
   ],
   "id": "6dac9374e57f2eb",
   "outputs": [],
   "execution_count": 11
  },
  {
   "metadata": {
    "ExecuteTime": {
     "end_time": "2024-08-14T18:10:22.759030Z",
     "start_time": "2024-08-14T18:10:22.738521Z"
    }
   },
   "cell_type": "code",
   "source": [
    "epochs = 1000\n",
    "loss_values = []\n",
    "for i in range(epochs):\n",
    "    model.clear_gradients()\n",
    "    output = model.forward(X)\n",
    "    loss_value = loss.forward(output, y)\n",
    "    loss_values.append(loss_value)\n",
    "    grad = loss.backward(output, y)\n",
    "    model.backward(grad)\n",
    "    model.average_gradients(X.shape[0])\n",
    "    optimizer.step(model)"
   ],
   "id": "31b8cca3dbebe826",
   "outputs": [
    {
     "ename": "ValueError",
     "evalue": "shapes (100,100) and (1,10) not aligned: 100 (dim 1) != 1 (dim 0)",
     "output_type": "error",
     "traceback": [
      "\u001B[0;31m---------------------------------------------------------------------------\u001B[0m",
      "\u001B[0;31mValueError\u001B[0m                                Traceback (most recent call last)",
      "Cell \u001B[0;32mIn[12], line 9\u001B[0m\n\u001B[1;32m      7\u001B[0m loss_values\u001B[38;5;241m.\u001B[39mappend(loss_value)\n\u001B[1;32m      8\u001B[0m grad \u001B[38;5;241m=\u001B[39m loss\u001B[38;5;241m.\u001B[39mbackward(output, y)\n\u001B[0;32m----> 9\u001B[0m \u001B[43mmodel\u001B[49m\u001B[38;5;241;43m.\u001B[39;49m\u001B[43mbackward\u001B[49m\u001B[43m(\u001B[49m\u001B[43mgrad\u001B[49m\u001B[43m)\u001B[49m\n\u001B[1;32m     10\u001B[0m model\u001B[38;5;241m.\u001B[39maverage_gradients(X\u001B[38;5;241m.\u001B[39mshape[\u001B[38;5;241m0\u001B[39m])\n\u001B[1;32m     11\u001B[0m optimizer\u001B[38;5;241m.\u001B[39mstep(model)\n",
      "File \u001B[0;32m~/PycharmProjects/NN-SCRATCH/nn/Module.py:34\u001B[0m, in \u001B[0;36mSequential.backward\u001B[0;34m(self, gradient)\u001B[0m\n\u001B[1;32m     32\u001B[0m \u001B[38;5;28;01mdef\u001B[39;00m \u001B[38;5;21mbackward\u001B[39m(\u001B[38;5;28mself\u001B[39m, gradient):\n\u001B[1;32m     33\u001B[0m     \u001B[38;5;28;01mfor\u001B[39;00m module \u001B[38;5;129;01min\u001B[39;00m \u001B[38;5;28mreversed\u001B[39m(\u001B[38;5;28mself\u001B[39m\u001B[38;5;241m.\u001B[39mmodules):\n\u001B[0;32m---> 34\u001B[0m         gradient \u001B[38;5;241m=\u001B[39m \u001B[43mmodule\u001B[49m\u001B[38;5;241;43m.\u001B[39;49m\u001B[43mbackward\u001B[49m\u001B[43m(\u001B[49m\u001B[43mgradient\u001B[49m\u001B[43m)\u001B[49m\n\u001B[1;32m     35\u001B[0m     \u001B[38;5;28;01mreturn\u001B[39;00m gradient\n",
      "File \u001B[0;32m~/PycharmProjects/NN-SCRATCH/nn/Module.py:71\u001B[0m, in \u001B[0;36mLinear.backward\u001B[0;34m(self, gradient)\u001B[0m\n\u001B[1;32m     69\u001B[0m \u001B[38;5;28mself\u001B[39m\u001B[38;5;241m.\u001B[39mweights_gradients \u001B[38;5;241m=\u001B[39m np\u001B[38;5;241m.\u001B[39mdot(\u001B[38;5;28mself\u001B[39m\u001B[38;5;241m.\u001B[39minput\u001B[38;5;241m.\u001B[39mT, gradient)\n\u001B[1;32m     70\u001B[0m \u001B[38;5;28mself\u001B[39m\u001B[38;5;241m.\u001B[39mbias_gradients \u001B[38;5;241m=\u001B[39m np\u001B[38;5;241m.\u001B[39msum(gradient, axis\u001B[38;5;241m=\u001B[39m\u001B[38;5;241m0\u001B[39m, keepdims\u001B[38;5;241m=\u001B[39m\u001B[38;5;28;01mTrue\u001B[39;00m)\n\u001B[0;32m---> 71\u001B[0m grad_input \u001B[38;5;241m=\u001B[39m \u001B[43mnp\u001B[49m\u001B[38;5;241;43m.\u001B[39;49m\u001B[43mdot\u001B[49m\u001B[43m(\u001B[49m\u001B[43mgradient\u001B[49m\u001B[43m,\u001B[49m\u001B[43m \u001B[49m\u001B[38;5;28;43mself\u001B[39;49m\u001B[38;5;241;43m.\u001B[39;49m\u001B[43mweights\u001B[49m\u001B[38;5;241;43m.\u001B[39;49m\u001B[43mT\u001B[49m\u001B[43m)\u001B[49m\n\u001B[1;32m     72\u001B[0m \u001B[38;5;28;01mreturn\u001B[39;00m grad_input\n",
      "\u001B[0;31mValueError\u001B[0m: shapes (100,100) and (1,10) not aligned: 100 (dim 1) != 1 (dim 0)"
     ]
    }
   ],
   "execution_count": 12
  },
  {
   "metadata": {},
   "cell_type": "code",
   "source": [
    "plt.plot(loss_values,label=\"loss\")\n",
    "plt.xlabel(\"Epochs\")\n",
    "plt.ylabel(\"Loss\")\n",
    "plt.legend()\n",
    "plt.grid()\n",
    "plt.show();"
   ],
   "id": "5b17f3fc7c15e769",
   "outputs": [],
   "execution_count": null
  },
  {
   "metadata": {},
   "cell_type": "code",
   "source": [
    "pred = model(X)\n",
    "pred.shape"
   ],
   "id": "ce7e70bddf2e2507",
   "outputs": [],
   "execution_count": null
  },
  {
   "metadata": {},
   "cell_type": "code",
   "source": [
    "fig = plt.figure(figsize=(12,5))\n",
    "plt.scatter(X, y,marker=\"^\",alpha=1,label=\"true\")\n",
    "plt.scatter(X, pred,marker=\"v\",alpha=1,label=\"pred\")\n",
    "plt.grid()\n",
    "plt.legend()\n",
    "plt.show()"
   ],
   "id": "5e6daf6a771f00e3",
   "outputs": [],
   "execution_count": null
  }
 ],
 "metadata": {
  "kernelspec": {
   "display_name": "Python 3",
   "language": "python",
   "name": "python3"
  },
  "language_info": {
   "codemirror_mode": {
    "name": "ipython",
    "version": 2
   },
   "file_extension": ".py",
   "mimetype": "text/x-python",
   "name": "python",
   "nbconvert_exporter": "python",
   "pygments_lexer": "ipython2",
   "version": "2.7.6"
  }
 },
 "nbformat": 4,
 "nbformat_minor": 5
}
